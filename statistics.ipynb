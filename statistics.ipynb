{
 "cells": [
  {
   "cell_type": "code",
   "execution_count": 1,
   "id": "66064792-03a4-4afd-bfd1-b5f679c1ae0d",
   "metadata": {},
   "outputs": [],
   "source": [
    "import pandas as pd\n",
    "import numpy\n",
    "import glob"
   ]
  },
  {
   "cell_type": "raw",
   "id": "159e2a83-8d2d-4528-9c92-b062b5d43054",
   "metadata": {},
   "source": [
    "Experiment 1"
   ]
  },
  {
   "cell_type": "code",
   "execution_count": 12,
   "id": "b9e6d320-ce33-49b0-897d-6ce1ab0f6f88",
   "metadata": {},
   "outputs": [
    {
     "name": "stdout",
     "output_type": "stream",
     "text": [
      "['results//E1/E1-tenant1-default-scheduler-run4-depvars.csv', 'results//E1/E1-tenant1-default-scheduler-run2-depvars.csv', 'results//E1/E1-tenant1-default-scheduler-run3-depvars.csv', 'results//E1/E1-tenant1-default-scheduler-run1-depvars.csv', 'results//E1/E1-tenant1-default-scheduler-run5-depvars.csv']\n",
      "['results//E1/E1-tenant2-default-scheduler-run2-depvars.csv', 'results//E1/E1-tenant2-default-scheduler-run4-depvars.csv', 'results//E1/E1-tenant2-default-scheduler-run5-depvars.csv', 'results//E1/E1-tenant2-default-scheduler-run3-depvars.csv', 'results//E1/E1-tenant2-default-scheduler-run1-depvars.csv']\n",
      "['results//E1/E1-tenant3-default-scheduler-run5-depvars.csv', 'results//E1/E1-tenant3-default-scheduler-run1-depvars.csv', 'results//E1/E1-tenant3-default-scheduler-run3-depvars.csv', 'results//E1/E1-tenant3-default-scheduler-run2-depvars.csv', 'results//E1/E1-tenant3-default-scheduler-run4-depvars.csv']\n"
     ]
    }
   ],
   "source": [
    "tenants = ['tenant1', 'tenant2', 'tenant3']\n",
    "for tenant in tenants:\n",
    "    file_paths = glob.glob(f\"results//E1//E1-{tenant}-default-scheduler-run*-depvars.csv\")\n",
    "    print(file_paths)\n",
    "    df = pd.DataFrame()\n",
    "    for file_path in file_paths:\n",
    "            df = pd.concat([df, pd.read_csv(file_path)])\n",
    "    df_sorted = df.sort_values(by='run')\n",
    "    # Save the combined dataframe to a new CSV file\n",
    "    df_sorted.to_csv(f'results//E1//E1-{tenant}-default-scheduler-all-depvars.csv', index=False, mode='w')"
   ]
  },
  {
   "cell_type": "raw",
   "id": "ae81ca16-28e5-4a13-8690-9bde5348237a",
   "metadata": {},
   "source": [
    "Experiment 2"
   ]
  },
  {
   "cell_type": "code",
   "execution_count": 14,
   "id": "6d09e578-7410-458b-a86f-1c3626bb5191",
   "metadata": {},
   "outputs": [
    {
     "name": "stdout",
     "output_type": "stream",
     "text": [
      "['results//E2/E2-default-scheduler-run5-depvars.csv', 'results//E2/E2-default-scheduler-run3-depvars.csv', 'results//E2/E2-default-scheduler-run1-depvars.csv', 'results//E2/E2-default-scheduler-run2-depvars.csv', 'results//E2/E2-default-scheduler-run4-depvars.csv']\n"
     ]
    }
   ],
   "source": [
    "file_paths = glob.glob(f\"results//E2//E2-default-scheduler-run*-depvars.csv\")\n",
    "print(file_paths)\n",
    "df = pd.DataFrame()\n",
    "for file_path in file_paths:\n",
    "        df = pd.concat([df, pd.read_csv(file_path)])\n",
    "df_sorted = df.sort_values(by=['run', 'tenant'])\n",
    "# Save the combined dataframe to a new CSV file\n",
    "df_sorted.to_csv(f'results//E2//E2-default-scheduler-all-depvars.csv', index=False, mode='w')"
   ]
  },
  {
   "cell_type": "raw",
   "id": "c5bc8a52-83b9-4d2e-8d8e-1840cdfb94df",
   "metadata": {},
   "source": [
    "Experiment 4"
   ]
  },
  {
   "cell_type": "code",
   "execution_count": 15,
   "id": "a01d4947-27ba-40ca-b379-2f85c6dd10ff",
   "metadata": {},
   "outputs": [
    {
     "name": "stdout",
     "output_type": "stream",
     "text": [
      "['results//E4/E4-default-scheduler-run4-depvars.csv', 'results//E4/E4-default-scheduler-run2-depvars.csv', 'results//E4/E4-default-scheduler-run1-depvars.csv', 'results//E4/E4-default-scheduler-run3-depvars.csv', 'results//E4/E4-default-scheduler-run5-depvars.csv']\n",
      "['results//E4/E4-nos-scheduler-run2-depvars.csv', 'results//E4/E4-nos-scheduler-run4-depvars.csv', 'results//E4/E4-nos-scheduler-run5-depvars.csv', 'results//E4/E4-nos-scheduler-run3-depvars.csv', 'results//E4/E4-nos-scheduler-run1-depvars.csv']\n",
      "['results//E4/E4-scheduler-plugins-scheduler-run1-depvars.csv', 'results//E4/E4-scheduler-plugins-scheduler-run3-depvars.csv', 'results//E4/E4-scheduler-plugins-scheduler-run5-depvars.csv', 'results//E4/E4-scheduler-plugins-scheduler-run4-depvars.csv', 'results//E4/E4-scheduler-plugins-scheduler-run2-depvars.csv']\n",
      "['results//E4/E4-yunikorn-run3-depvars.csv', 'results//E4/E4-yunikorn-run1-depvars.csv', 'results//E4/E4-yunikorn-run5-depvars.csv', 'results//E4/E4-yunikorn-run4-depvars.csv', 'results//E4/E4-yunikorn-run2-depvars.csv']\n"
     ]
    }
   ],
   "source": [
    "schedulers = ['default-scheduler', 'nos-scheduler', 'scheduler-plugins-scheduler', 'yunikorn']\n",
    "\n",
    "for scheduler in schedulers:\n",
    "    file_paths = glob.glob(f\"results//E4//E4-{scheduler}-run*-depvars.csv\")\n",
    "    print(file_paths)\n",
    "    df = pd.DataFrame()\n",
    "    for file_path in file_paths:\n",
    "        df = pd.concat([df, pd.read_csv(file_path)])\n",
    "    df_sorted = df.sort_values(by=['run', 'tenant'])\n",
    "    # Save the combined dataframe to a new CSV file\n",
    "    df_sorted.to_csv(f'results//E4//E4-{scheduler}-all-depvars.csv', index=False, mode='w')"
   ]
  },
  {
   "cell_type": "code",
   "execution_count": 18,
   "id": "c3eeca00-bb19-4f2b-943d-b9fad3ef9043",
   "metadata": {},
   "outputs": [
    {
     "name": "stdout",
     "output_type": "stream",
     "text": [
      "['results//E5/E5-default-scheduler-run5-depvars.csv', 'results//E5/E5-default-scheduler-run3-depvars.csv', 'results//E5/E5-default-scheduler-run1-depvars.csv', 'results//E5/E5-default-scheduler-run2-depvars.csv', 'results//E5/E5-default-scheduler-run4-depvars.csv']\n",
      "['results//E5/E5-nos-scheduler-run1-depvars.csv', 'results//E5/E5-nos-scheduler-run3-depvars.csv', 'results//E5/E5-nos-scheduler-run5-depvars.csv', 'results//E5/E5-nos-scheduler-run4-depvars.csv', 'results//E5/E5-nos-scheduler-run2-depvars.csv']\n",
      "['results//E5/E5-scheduler-plugins-scheduler-run5-depvars.csv', 'results//E5/E5-scheduler-plugins-scheduler-run1-depvars.csv', 'results//E5/E5-scheduler-plugins-scheduler-run3-depvars.csv', 'results//E5/E5-scheduler-plugins-scheduler-run2-depvars.csv', 'results//E5/E5-scheduler-plugins-scheduler-run4-depvars.csv']\n",
      "['results//E5/E5-yunikorn-run2-depvars.csv', 'results//E5/E5-yunikorn-run4-depvars.csv', 'results//E5/E5-yunikorn-run5-depvars.csv', 'results//E5/E5-yunikorn-run1-depvars.csv', 'results//E5/E5-yunikorn-run3-depvars.csv']\n"
     ]
    }
   ],
   "source": [
    "schedulers = ['default-scheduler', 'nos-scheduler', 'scheduler-plugins-scheduler', 'yunikorn']\n",
    "\n",
    "for scheduler in schedulers:\n",
    "    file_paths = glob.glob(f\"results//E5//E5-{scheduler}-run*-depvars.csv\")\n",
    "    print(file_paths)\n",
    "    df = pd.DataFrame()\n",
    "\n",
    "# Concatenate all CSV files into one\n",
    "    for file_path in file_paths:\n",
    "        df = pd.concat([df, pd.read_csv(file_path)])\n",
    "    df_sorted = df.sort_values(by=['run', 'tenant'])\n",
    "\n",
    "# Save the combined dataframe to a new CSV file\n",
    "    df_sorted.to_csv(f'results//E5//E5-{scheduler}-all-depvars.csv', index=False, mode='w')"
   ]
  },
  {
   "cell_type": "raw",
   "id": "958be5bc-75a7-477b-a7b2-06efffeb3bcf",
   "metadata": {},
   "source": []
  },
  {
   "cell_type": "code",
   "execution_count": 20,
   "id": "165e2da8-4438-46c7-86d7-f0fd8999082d",
   "metadata": {},
   "outputs": [
    {
     "data": {
      "text/plain": [
       "F_onewayResult(statistic=113.928071731205, pvalue=5.232735676007707e-11)"
      ]
     },
     "execution_count": 20,
     "metadata": {},
     "output_type": "execute_result"
    }
   ],
   "source": [
    "from scipy.stats import f_oneway\n",
    "\n",
    "t1_default_runtime = [643, 643, 655, 656, 656]\n",
    "t1_capacity_runtime = [663, 646, 644, 616, 628]\n",
    "t1_nos_runtime = [589, 588, 587, 587, 588]\n",
    "t1_yunikorn_runtime = [737, 748, 752, 708, 742]\n",
    "f_oneway(t1_default_runtime, t1_capacity_runtime, t1_nos_runtime, t1_yunikorn_runtime)"
   ]
  },
  {
   "cell_type": "code",
   "execution_count": 27,
   "id": "03d1bb0d-a8d6-41b1-b771-7af6c64e6378",
   "metadata": {},
   "outputs": [
    {
     "name": "stdout",
     "output_type": "stream",
     "text": [
      "[643, 643, 655, 656, 656, 663, 646, 644, 616, 628, 589, 588, 587, 587, 588, 737, 748, 752, 708, 742]\n",
      "['default' 'default' 'default' 'default' 'default' 'capacity' 'capacity'\n",
      " 'capacity' 'capacity' 'capacity' 'nos' 'nos' 'nos' 'nos' 'nos' 'yunikorn'\n",
      " 'yunikorn' 'yunikorn' 'yunikorn' 'yunikorn']\n",
      "   Multiple Comparison of Means - Tukey HSD, FWER=0.05    \n",
      "==========================================================\n",
      " group1   group2  meandiff p-adj   lower    upper   reject\n",
      "----------------------------------------------------------\n",
      "capacity  default     11.2 0.5367 -12.3354  34.7354  False\n",
      "capacity      nos    -51.6  0.001 -75.1354 -28.0646   True\n",
      "capacity yunikorn     98.0  0.001  74.4646 121.5354   True\n",
      " default      nos    -62.8  0.001 -86.3354 -39.2646   True\n",
      " default yunikorn     86.8  0.001  63.2646 110.3354   True\n",
      "     nos yunikorn    149.6  0.001 126.0646 173.1354   True\n",
      "----------------------------------------------------------\n"
     ]
    }
   ],
   "source": [
    "import numpy as np\n",
    "from statsmodels.stats.multicomp import pairwise_tukeyhsd\n",
    "all_runtimes = [643, 643, 655, 656, 656, 663, 646, 644, 616, 628, 589, 588, 587, 587, 588, 737, 748, 752, 708, 742]\n",
    "\n",
    "print(all_runtimes)\n",
    "print(np.repeat(['default', 'capacity', 'nos', 'yunikorn'], repeats=5))\n",
    "#create DataFrame to hold data\n",
    "df = pd.DataFrame({'score': all_runtimes,\n",
    "                   'group': np.repeat(['default', 'capacity', 'nos', 'yunikorn'], repeats=5)}) \n",
    "\n",
    "# perform Tukey's test\n",
    "tukey = pairwise_tukeyhsd(endog=df['score'],\n",
    "                          groups=df['group'],\n",
    "                          alpha=0.05)\n",
    "\n",
    "#display results\n",
    "print(tukey)"
   ]
  },
  {
   "cell_type": "markdown",
   "id": "9f5e1ce6-17c7-4402-a034-3c278acadba1",
   "metadata": {},
   "source": [
    "## ANOVA"
   ]
  },
  {
   "cell_type": "code",
   "execution_count": 83,
   "id": "ed1901d2-038e-412e-b065-0bca30f3d541",
   "metadata": {},
   "outputs": [],
   "source": [
    "import pandas as pd\n",
    "\n",
    "schedulers = ['default-scheduler', 'nos-scheduler', 'scheduler-plugins-scheduler', 'yunikorn']\n",
    "tenants = ['tenant1', 'tenant2', 'tenant3']\n",
    "results = {}\n",
    "for scheduler in schedulers:\n",
    "    df = pd.read_csv(f'results//E4//E4-{scheduler}-all-depvars.csv')\n",
    "    results[scheduler] = {}\n",
    "    for tenant in tenants:\n",
    "        \n",
    "        the_list = df.loc[df['tenant'] == tenant, 'workflow run time (makespan)'].tolist()\n",
    "        results[scheduler][tenant] = the_list\n",
    "\n",
    "newdf = pd.DataFrame(results)\n"
   ]
  },
  {
   "cell_type": "code",
   "execution_count": 86,
   "id": "4426c387-24f8-438f-828c-a6b7dedf5656",
   "metadata": {},
   "outputs": [
    {
     "name": "stdout",
     "output_type": "stream",
     "text": [
      "F_onewayResult(statistic=113.9280717312056, pvalue=5.2327356760074875e-11)\n",
      "[643, 643, 655, 656, 656, 663, 646, 644, 616, 628, 737, 748, 752, 708, 742, 589, 588, 587, 587, 588]\n",
      "['default' 'default' 'default' 'default' 'default' 'capacity' 'capacity'\n",
      " 'capacity' 'capacity' 'capacity' 'nos' 'nos' 'nos' 'nos' 'nos' 'yunikorn'\n",
      " 'yunikorn' 'yunikorn' 'yunikorn' 'yunikorn']\n",
      "    Multiple Comparison of Means - Tukey HSD, FWER=0.05     \n",
      "============================================================\n",
      " group1   group2  meandiff p-adj    lower     upper   reject\n",
      "------------------------------------------------------------\n",
      "capacity  default     11.2 0.5367  -12.3354   34.7354  False\n",
      "capacity      nos     98.0  0.001   74.4646  121.5354   True\n",
      "capacity yunikorn    -51.6  0.001  -75.1354  -28.0646   True\n",
      " default      nos     86.8  0.001   63.2646  110.3354   True\n",
      " default yunikorn    -62.8  0.001  -86.3354  -39.2646   True\n",
      "     nos yunikorn   -149.6  0.001 -173.1354 -126.0646   True\n",
      "------------------------------------------------------------\n"
     ]
    }
   ],
   "source": [
    "import numpy as np\n",
    "from statsmodels.stats.multicomp import pairwise_tukeyhsd\n",
    "\n",
    "t1_default_runtime = newdf['default-scheduler']['tenant1']\n",
    "t1_capacity_runtime = newdf['scheduler-plugins-scheduler']['tenant1']\n",
    "t1_nos_runtime = newdf['nos-scheduler']['tenant1']\n",
    "t1_yunikorn_runtime = newdf['yunikorn']['tenant1']\n",
    "anova = f_oneway(t1_default_runtime, t1_capacity_runtime, t1_nos_runtime, t1_yunikorn_runtime)\n",
    "print(anova)\n",
    "all_runtimes = []\n",
    "\n",
    "for runtime in t1_default_runtime:\n",
    "    all_runtimes.append(runtime)\n",
    "    \n",
    "for runtime in t1_capacity_runtime:\n",
    "    all_runtimes.append(runtime)\n",
    "    \n",
    "for runtime in t1_nos_runtime:\n",
    "    all_runtimes.append(runtime)\n",
    "    \n",
    "for runtime in t1_yunikorn_runtime:\n",
    "    all_runtimes.append(runtime)\n",
    "\n",
    "print(all_runtimes)\n",
    "print(np.repeat(['default', 'capacity', 'nos', 'yunikorn'], repeats=5))\n",
    "#create DataFrame to hold data\n",
    "df = pd.DataFrame({'score': all_runtimes,\n",
    "                   'group': np.repeat(['default', 'capacity', 'nos', 'yunikorn'], repeats=5)}) \n",
    "\n",
    "# perform Tukey's test\n",
    "tukey = pairwise_tukeyhsd(endog=df['score'],\n",
    "                          groups=df['group'],\n",
    "                          alpha=0.05)\n",
    "\n",
    "#display results\n",
    "print(tukey)"
   ]
  },
  {
   "cell_type": "code",
   "execution_count": 87,
   "id": "6a4116a2-34a0-466b-a40d-7fa2a39d55e1",
   "metadata": {},
   "outputs": [
    {
     "name": "stdout",
     "output_type": "stream",
     "text": [
      "[563, 554, 565, 566, 487, 508, 525, 544, 547, 495, 487, 494, 512, 494, 479, 402, 399, 403, 399, 398]\n",
      "['default' 'default' 'default' 'default' 'default' 'capacity' 'capacity'\n",
      " 'capacity' 'capacity' 'capacity' 'nos' 'nos' 'nos' 'nos' 'nos' 'yunikorn'\n",
      " 'yunikorn' 'yunikorn' 'yunikorn' 'yunikorn']\n",
      "    Multiple Comparison of Means - Tukey HSD, FWER=0.05     \n",
      "============================================================\n",
      " group1   group2  meandiff p-adj    lower     upper   reject\n",
      "------------------------------------------------------------\n",
      "capacity  default     23.2 0.3437  -15.2686   61.6686  False\n",
      "capacity      nos    -30.6 0.1455  -69.0686    7.8686  False\n",
      "capacity yunikorn   -123.6  0.001 -162.0686  -85.1314   True\n",
      " default      nos    -53.8 0.0051  -92.2686  -15.3314   True\n",
      " default yunikorn   -146.8  0.001 -185.2686 -108.3314   True\n",
      "     nos yunikorn    -93.0  0.001 -131.4686  -54.5314   True\n",
      "------------------------------------------------------------\n"
     ]
    }
   ],
   "source": [
    "t2_default_runtime = newdf['default-scheduler']['tenant2']\n",
    "t2_capacity_runtime = newdf['scheduler-plugins-scheduler']['tenant2']\n",
    "t2_nos_runtime = newdf['nos-scheduler']['tenant2']\n",
    "t2_yunikorn_runtime = newdf['yunikorn']['tenant2']\n",
    "f_oneway(t2_default_runtime, t2_capacity_runtime, t2_nos_runtime, t2_yunikorn_runtime)\n",
    "\n",
    "all_runtimes = []\n",
    "\n",
    "for runtime in t2_default_runtime:\n",
    "    all_runtimes.append(runtime)\n",
    "    \n",
    "for runtime in t2_capacity_runtime:\n",
    "    all_runtimes.append(runtime)\n",
    "    \n",
    "for runtime in t2_nos_runtime:\n",
    "    all_runtimes.append(runtime)\n",
    "    \n",
    "for runtime in t2_yunikorn_runtime:\n",
    "    all_runtimes.append(runtime)\n",
    "\n",
    "print(all_runtimes)\n",
    "print(np.repeat(['default', 'capacity', 'nos', 'yunikorn'], repeats=5))\n",
    "#create DataFrame to hold data\n",
    "df = pd.DataFrame({'score': all_runtimes,\n",
    "                   'group': np.repeat(['default', 'capacity', 'nos', 'yunikorn'], repeats=5)}) \n",
    "\n",
    "# perform Tukey's test\n",
    "tukey = pairwise_tukeyhsd(endog=df['score'],\n",
    "                          groups=df['group'],\n",
    "                          alpha=0.05)\n",
    "\n",
    "#display results\n",
    "print(tukey)"
   ]
  },
  {
   "cell_type": "code",
   "execution_count": 54,
   "id": "cb8c34f8-d94e-4f32-a671-d0a4146fda4f",
   "metadata": {},
   "outputs": [
    {
     "name": "stdout",
     "output_type": "stream",
     "text": [
      "[474, 474, 475, 477, 478, 463, 455, 375, 469, 460, 410, 478, 498, 396, 476, 329, 334, 331, 334, 333]\n",
      "['default' 'default' 'default' 'default' 'default' 'capacity' 'capacity'\n",
      " 'capacity' 'capacity' 'capacity' 'nos' 'nos' 'nos' 'nos' 'nos' 'yunikorn'\n",
      " 'yunikorn' 'yunikorn' 'yunikorn' 'yunikorn']\n",
      "    Multiple Comparison of Means - Tukey HSD, FWER=0.05    \n",
      "===========================================================\n",
      " group1   group2  meandiff p-adj    lower    upper   reject\n",
      "-----------------------------------------------------------\n",
      "capacity  default     31.2 0.3849  -23.1305  85.5305  False\n",
      "capacity      nos      7.2    0.9  -47.1305  61.5305  False\n",
      "capacity yunikorn   -112.2  0.001 -166.5305 -57.8695   True\n",
      " default      nos    -24.0 0.5893  -78.3305  30.3305  False\n",
      " default yunikorn   -143.4  0.001 -197.7305 -89.0695   True\n",
      "     nos yunikorn   -119.4  0.001 -173.7305 -65.0695   True\n",
      "-----------------------------------------------------------\n"
     ]
    }
   ],
   "source": [
    "t3_default_runtime = newdf['default-scheduler']['tenant3']\n",
    "t3_capacity_runtime = newdf['scheduler-plugins-scheduler']['tenant3']\n",
    "t3_nos_runtime = newdf['nos-scheduler']['tenant3']\n",
    "t3_yunikorn_runtime = newdf['yunikorn']['tenant3']\n",
    "f_oneway(t3_default_runtime, t3_capacity_runtime, t3_nos_runtime, t3_yunikorn_runtime)\n",
    "\n",
    "all_runtimes = []\n",
    "\n",
    "for runtime in t3_default_runtime:\n",
    "    all_runtimes.append(runtime)\n",
    "    \n",
    "for runtime in t3_capacity_runtime:\n",
    "    all_runtimes.append(runtime)\n",
    "    \n",
    "for runtime in t3_nos_runtime:\n",
    "    all_runtimes.append(runtime)\n",
    "    \n",
    "for runtime in t3_yunikorn_runtime:\n",
    "    all_runtimes.append(runtime)\n",
    "\n",
    "print(all_runtimes)\n",
    "print(np.repeat(['default', 'capacity', 'nos', 'yunikorn'], repeats=5))\n",
    "#create DataFrame to hold data\n",
    "df = pd.DataFrame({'score': all_runtimes,\n",
    "                   'group': np.repeat(['default', 'capacity', 'nos', 'yunikorn'], repeats=5)}) \n",
    "\n",
    "# perform Tukey's test\n",
    "tukey = pairwise_tukeyhsd(endog=df['score'],\n",
    "                          groups=df['group'],\n",
    "                          alpha=0.05)\n",
    "\n",
    "#display results\n",
    "print(tukey)"
   ]
  },
  {
   "cell_type": "code",
   "execution_count": 55,
   "id": "f039b113-195b-4aee-8e8c-d908898e2d70",
   "metadata": {},
   "outputs": [],
   "source": [
    "schedulers = ['default-scheduler', 'nos-scheduler', 'scheduler-plugins-scheduler', 'yunikorn']\n",
    "tenants = ['tenant1', 'tenant2', 'tenant3']\n",
    "results = {}\n",
    "for scheduler in schedulers:\n",
    "    df = pd.read_csv(f'results//E4//E4-{scheduler}-all-depvars.csv')\n",
    "    results[scheduler] = {}\n",
    "    for tenant in tenants:\n",
    "        \n",
    "        the_list = df.loc[df['tenant'] == tenant, 'avg queue time'].tolist()\n",
    "        results[scheduler][tenant] = the_list\n",
    "\n",
    "newdf = pd.DataFrame(results)"
   ]
  },
  {
   "cell_type": "code",
   "execution_count": 56,
   "id": "9abc561e-240a-499e-8f67-3e987e536b1b",
   "metadata": {},
   "outputs": [
    {
     "name": "stdout",
     "output_type": "stream",
     "text": [
      "                 default-scheduler              nos-scheduler  \\\n",
      "tenant1       [83, 87, 89, 82, 87]  [246, 266, 245, 242, 246]   \n",
      "tenant2  [230, 210, 212, 222, 212]    [96, 160, 122, 161, 91]   \n",
      "tenant3  [250, 253, 252, 256, 253]  [155, 142, 168, 110, 143]   \n",
      "\n",
      "        scheduler-plugins-scheduler                   yunikorn  \n",
      "tenant1   [144, 147, 163, 149, 159]  [158, 160, 158, 159, 161]  \n",
      "tenant2   [152, 157, 196, 161, 115]   [97, 107, 102, 103, 107]  \n",
      "tenant3    [179, 145, 77, 125, 124]       [84, 84, 84, 82, 84]  \n"
     ]
    }
   ],
   "source": [
    "print(newdf)"
   ]
  },
  {
   "cell_type": "code",
   "execution_count": 65,
   "id": "250f3393-7416-4b21-bd4a-d6d05ee7e563",
   "metadata": {},
   "outputs": [
    {
     "name": "stdout",
     "output_type": "stream",
     "text": [
      "F_onewayResult(statistic=528.6807594441092, pvalue=3.2898736224864513e-16)\n",
      "[474, 474, 475, 477, 478, 463, 455, 375, 469, 460, 410, 478, 498, 396, 476, 329, 334, 331, 334, 333]\n",
      "['default' 'default' 'default' 'default' 'default' 'capacity' 'capacity'\n",
      " 'capacity' 'capacity' 'capacity' 'nos' 'nos' 'nos' 'nos' 'nos' 'yunikorn'\n",
      " 'yunikorn' 'yunikorn' 'yunikorn' 'yunikorn']\n",
      "    Multiple Comparison of Means - Tukey HSD, FWER=0.05    \n",
      "===========================================================\n",
      " group1   group2  meandiff p-adj    lower    upper   reject\n",
      "-----------------------------------------------------------\n",
      "capacity  default     31.2 0.3849  -23.1305  85.5305  False\n",
      "capacity      nos      7.2    0.9  -47.1305  61.5305  False\n",
      "capacity yunikorn   -112.2  0.001 -166.5305 -57.8695   True\n",
      " default      nos    -24.0 0.5893  -78.3305  30.3305  False\n",
      " default yunikorn   -143.4  0.001 -197.7305 -89.0695   True\n",
      "     nos yunikorn   -119.4  0.001 -173.7305 -65.0695   True\n",
      "-----------------------------------------------------------\n"
     ]
    }
   ],
   "source": [
    "t1_default_queuetime = newdf['default-scheduler']['tenant1']\n",
    "t1_capacity_queuetime = newdf['scheduler-plugins-scheduler']['tenant1']\n",
    "t1_nos_queuetime = newdf['nos-scheduler']['tenant1']\n",
    "t1_yunikorn_queuetime = newdf['yunikorn']['tenant1']\n",
    "anova = f_oneway(t1_default_queuetime, t1_capacity_queuetime, t1_nos_queuetime, t1_yunikorn_queuetime)\n",
    "print(anova)\n",
    "all_queuetimes = []\n",
    "\n",
    "for queuetime in t1_default_queuetime:\n",
    "    all_queuetimes.append(runtime)\n",
    "    \n",
    "for queuetime in t1_capacity_queuetime:\n",
    "    all_queuetimes.append(runtime)\n",
    "    \n",
    "for queuetime in t1_nos_queuetime:\n",
    "    all_queuetimes.append(runtime)\n",
    "    \n",
    "for queuetime in t1_yunikorn_queuetime:\n",
    "    all_queuetimes.append(runtime)\n",
    "\n",
    "print(all_runtimes)\n",
    "print(np.repeat(['default', 'capacity', 'nos', 'yunikorn'], repeats=5))\n",
    "#create DataFrame to hold data\n",
    "df = pd.DataFrame({'score': all_runtimes,\n",
    "                   'group': np.repeat(['default', 'capacity', 'nos', 'yunikorn'], repeats=5)}) \n",
    "\n",
    "# perform Tukey's test\n",
    "tukey = pairwise_tukeyhsd(endog=df['score'],\n",
    "                          groups=df['group'],\n",
    "                          alpha=0.05)\n",
    "\n",
    "#display results\n",
    "print(tukey)"
   ]
  },
  {
   "cell_type": "code",
   "execution_count": 64,
   "id": "d28f3cab-a47f-4f6f-a40d-46b619e3bd98",
   "metadata": {},
   "outputs": [
    {
     "name": "stdout",
     "output_type": "stream",
     "text": [
      "F_onewayResult(statistic=23.782511210762355, pvalue=3.87155537456603e-06)\n",
      "[474, 474, 475, 477, 478, 463, 455, 375, 469, 460, 410, 478, 498, 396, 476, 329, 334, 331, 334, 333]\n",
      "['default' 'default' 'default' 'default' 'default' 'capacity' 'capacity'\n",
      " 'capacity' 'capacity' 'capacity' 'nos' 'nos' 'nos' 'nos' 'nos' 'yunikorn'\n",
      " 'yunikorn' 'yunikorn' 'yunikorn' 'yunikorn']\n",
      "    Multiple Comparison of Means - Tukey HSD, FWER=0.05    \n",
      "===========================================================\n",
      " group1   group2  meandiff p-adj    lower    upper   reject\n",
      "-----------------------------------------------------------\n",
      "capacity  default     31.2 0.3849  -23.1305  85.5305  False\n",
      "capacity      nos      7.2    0.9  -47.1305  61.5305  False\n",
      "capacity yunikorn   -112.2  0.001 -166.5305 -57.8695   True\n",
      " default      nos    -24.0 0.5893  -78.3305  30.3305  False\n",
      " default yunikorn   -143.4  0.001 -197.7305 -89.0695   True\n",
      "     nos yunikorn   -119.4  0.001 -173.7305 -65.0695   True\n",
      "-----------------------------------------------------------\n"
     ]
    }
   ],
   "source": [
    "t2_default_queuetime = newdf['default-scheduler']['tenant2']\n",
    "t2_capacity_queuetime = newdf['scheduler-plugins-scheduler']['tenant2']\n",
    "t2_nos_queuetime = newdf['nos-scheduler']['tenant2']\n",
    "t2_yunikorn_queuetime = newdf['yunikorn']['tenant2']\n",
    "anova = f_oneway(t2_default_queuetime, t2_capacity_queuetime, t2_nos_queuetime, t2_yunikorn_queuetime)\n",
    "print(anova)\n",
    "all_queuetimes = []\n",
    "\n",
    "for queuetime in t2_default_queuetime:\n",
    "    all_queuetimes.append(runtime)\n",
    "    \n",
    "for queuetime in t2_capacity_queuetime:\n",
    "    all_queuetimes.append(runtime)\n",
    "    \n",
    "for queuetime in t2_nos_queuetime:\n",
    "    all_queuetimes.append(runtime)\n",
    "    \n",
    "for queuetime in t2_yunikorn_queuetime:\n",
    "    all_queuetimes.append(runtime)\n",
    "\n",
    "print(all_runtimes)\n",
    "print(np.repeat(['default', 'capacity', 'nos', 'yunikorn'], repeats=5))\n",
    "#create DataFrame to hold data\n",
    "df = pd.DataFrame({'score': all_runtimes,\n",
    "                   'group': np.repeat(['default', 'capacity', 'nos', 'yunikorn'], repeats=5)}) \n",
    "\n",
    "# perform Tukey's test\n",
    "tukey = pairwise_tukeyhsd(endog=df['score'],\n",
    "                          groups=df['group'],\n",
    "                          alpha=0.05)\n",
    "\n",
    "#display results\n",
    "print(tukey)"
   ]
  },
  {
   "cell_type": "code",
   "execution_count": 68,
   "id": "f1ed8b91-d90f-4143-9319-6bdf0242734a",
   "metadata": {},
   "outputs": [
    {
     "name": "stdout",
     "output_type": "stream",
     "text": [
      "[250, 253, 252, 256, 253, 179, 145, 77, 125, 124, 155, 142, 168, 110, 143, 84, 84, 84, 82, 84]\n",
      "['default' 'default' 'default' 'default' 'default' 'capacity' 'capacity'\n",
      " 'capacity' 'capacity' 'capacity' 'nos' 'nos' 'nos' 'nos' 'nos' 'yunikorn'\n",
      " 'yunikorn' 'yunikorn' 'yunikorn' 'yunikorn']\n",
      "    Multiple Comparison of Means - Tukey HSD, FWER=0.05     \n",
      "============================================================\n",
      " group1   group2  meandiff p-adj    lower     upper   reject\n",
      "------------------------------------------------------------\n",
      "capacity  default    122.8  0.001   83.9481  161.6519   True\n",
      "capacity      nos     13.6 0.7307  -25.2519   52.4519  False\n",
      "capacity yunikorn    -46.4 0.0167  -85.2519   -7.5481   True\n",
      " default      nos   -109.2  0.001 -148.0519  -70.3481   True\n",
      " default yunikorn   -169.2  0.001 -208.0519 -130.3481   True\n",
      "     nos yunikorn    -60.0 0.0022  -98.8519  -21.1481   True\n",
      "------------------------------------------------------------\n"
     ]
    }
   ],
   "source": [
    "t3_default_queuetime = newdf['default-scheduler']['tenant3']\n",
    "t3_capacity_queuetime = newdf['scheduler-plugins-scheduler']['tenant3']\n",
    "t3_nos_queuetime = newdf['nos-scheduler']['tenant3']\n",
    "t3_yunikorn_queuetime = newdf['yunikorn']['tenant3']\n",
    "f_oneway(t3_default_queuetime, t3_capacity_queuetime, t3_nos_queuetime, t3_yunikorn_queuetime)\n",
    "\n",
    "all_queuetimes = []\n",
    "\n",
    "for queuetime in t3_default_queuetime:\n",
    "    all_queuetimes.append(queuetime)\n",
    "    \n",
    "for queuetime in t3_capacity_queuetime:\n",
    "    all_queuetimes.append(queuetime)\n",
    "    \n",
    "for queuetime in t3_nos_queuetime:\n",
    "    all_queuetimes.append(queuetime)\n",
    "    \n",
    "for queuetime in t3_yunikorn_queuetime:\n",
    "    all_queuetimes.append(queuetime)\n",
    "\n",
    "print(all_queuetimes)\n",
    "print(np.repeat(['default', 'capacity', 'nos', 'yunikorn'], repeats=5))\n",
    "#create DataFrame to hold data\n",
    "df = pd.DataFrame({'score': all_queuetimes,\n",
    "                   'group': np.repeat(['default', 'capacity', 'nos', 'yunikorn'], repeats=5)}) \n",
    "\n",
    "# perform Tukey's test\n",
    "tukey = pairwise_tukeyhsd(endog=df['score'],\n",
    "                          groups=df['group'],\n",
    "                          alpha=0.05)\n",
    "\n",
    "#display results\n",
    "print(tukey)"
   ]
  },
  {
   "cell_type": "code",
   "execution_count": 76,
   "id": "f4bec947-dd0f-41cb-95b6-46f1d7db51d1",
   "metadata": {},
   "outputs": [
    {
     "name": "stdout",
     "output_type": "stream",
     "text": [
      "F_onewayResult(statistic=32.13008130081305, pvalue=5.263627133853546e-07)\n",
      "[4, 5, 5, 4, 4, 6, 6, 4, 4, 5, 5, 7, 5, 5, 5, 11, 8, 9, 11, 11]\n",
      "['default' 'default' 'default' 'default' 'default' 'capacity' 'capacity'\n",
      " 'capacity' 'capacity' 'capacity' 'nos' 'nos' 'nos' 'nos' 'nos' 'yunikorn'\n",
      " 'yunikorn' 'yunikorn' 'yunikorn' 'yunikorn']\n",
      "  Multiple Comparison of Means - Tukey HSD, FWER=0.05  \n",
      "=======================================================\n",
      " group1   group2  meandiff p-adj   lower  upper  reject\n",
      "-------------------------------------------------------\n",
      "capacity  default     -0.6 0.7655 -2.4321 1.2321  False\n",
      "capacity      nos      0.4    0.9 -1.4321 2.2321  False\n",
      "capacity yunikorn      5.0  0.001  3.1679 6.8321   True\n",
      " default      nos      1.0 0.4279 -0.8321 2.8321  False\n",
      " default yunikorn      5.6  0.001  3.7679 7.4321   True\n",
      "     nos yunikorn      4.6  0.001  2.7679 6.4321   True\n",
      "-------------------------------------------------------\n"
     ]
    }
   ],
   "source": [
    "t1_default_starttime = [4,5,5,4,4]\n",
    "t1_capacity_starttime = [6,6,4,4,5]\n",
    "t1_nos_starttime = [5,7,5,5,5]\n",
    "t1_yunikorn_starttime = [11,8,9,11,11]\n",
    "\n",
    "anova = f_oneway(t1_default_starttime, t1_capacity_starttime, t1_nos_starttime, t1_yunikorn_starttime)\n",
    "print(anova)\n",
    "all_starttimes = []\n",
    "\n",
    "for starttime in t1_default_starttime:\n",
    "    all_starttimes.append(starttime)\n",
    "    \n",
    "for starttime in t1_capacity_starttime:\n",
    "    all_starttimes.append(starttime)\n",
    "    \n",
    "for starttime in t1_nos_starttime:\n",
    "    all_starttimes.append(starttime)\n",
    "    \n",
    "for starttime in t1_yunikorn_starttime:\n",
    "    all_starttimes.append(starttime)\n",
    "\n",
    "print(all_starttimes)\n",
    "print(np.repeat(['default', 'capacity', 'nos', 'yunikorn'], repeats=5))\n",
    "#create DataFrame to hold data\n",
    "df = pd.DataFrame({'score': all_starttimes,\n",
    "                   'group': np.repeat(['default', 'capacity', 'nos', 'yunikorn'], repeats=5)}) \n",
    "\n",
    "# perform Tukey's test\n",
    "tukey = pairwise_tukeyhsd(endog=df['score'],\n",
    "                          groups=df['group'],\n",
    "                          alpha=0.05)\n",
    "\n",
    "#display results\n",
    "print(tukey)"
   ]
  },
  {
   "cell_type": "code",
   "execution_count": 77,
   "id": "d978bd08-a999-46f9-98be-db5961e5fe88",
   "metadata": {},
   "outputs": [
    {
     "name": "stdout",
     "output_type": "stream",
     "text": [
      "F_onewayResult(statistic=7511.591036415945, pvalue=2.1432800559595305e-25)\n",
      "[161, 162, 161, 162, 163, 40, 43, 42, 37, 40, 42, 46, 44, 42, 47, 11, 10, 10, 9, 11]\n",
      "['default' 'default' 'default' 'default' 'default' 'capacity' 'capacity'\n",
      " 'capacity' 'capacity' 'capacity' 'nos' 'nos' 'nos' 'nos' 'nos' 'yunikorn'\n",
      " 'yunikorn' 'yunikorn' 'yunikorn' 'yunikorn']\n",
      "    Multiple Comparison of Means - Tukey HSD, FWER=0.05     \n",
      "============================================================\n",
      " group1   group2  meandiff p-adj    lower     upper   reject\n",
      "------------------------------------------------------------\n",
      "capacity  default    121.4  0.001  118.2787  124.5213   True\n",
      "capacity      nos      3.8 0.0146    0.6787    6.9213   True\n",
      "capacity yunikorn    -30.2  0.001  -33.3213  -27.0787   True\n",
      " default      nos   -117.6  0.001 -120.7213 -114.4787   True\n",
      " default yunikorn   -151.6  0.001 -154.7213 -148.4787   True\n",
      "     nos yunikorn    -34.0  0.001  -37.1213  -30.8787   True\n",
      "------------------------------------------------------------\n"
     ]
    }
   ],
   "source": [
    "t2_default_starttime = [161,162,161,162,163]\n",
    "t2_capacity_starttime = [40,43,42,37,40]\n",
    "t2_nos_starttime = [42,46,44,42,47]\n",
    "t2_yunikorn_starttime = [11,10,10,9,11]\n",
    "\n",
    "anova = f_oneway(t2_default_starttime, t2_capacity_starttime, t2_nos_starttime, t2_yunikorn_starttime)\n",
    "print(anova)\n",
    "all_starttimes = []\n",
    "\n",
    "for starttime in t2_default_starttime:\n",
    "    all_starttimes.append(starttime)\n",
    "    \n",
    "for starttime in t2_capacity_starttime:\n",
    "    all_starttimes.append(starttime)\n",
    "    \n",
    "for starttime in t2_nos_starttime:\n",
    "    all_starttimes.append(starttime)\n",
    "    \n",
    "for starttime in t2_yunikorn_starttime:\n",
    "    all_starttimes.append(starttime)\n",
    "\n",
    "print(all_starttimes)\n",
    "print(np.repeat(['default', 'capacity', 'nos', 'yunikorn'], repeats=5))\n",
    "#create DataFrame to hold data\n",
    "df = pd.DataFrame({'score': all_starttimes,\n",
    "                   'group': np.repeat(['default', 'capacity', 'nos', 'yunikorn'], repeats=5)}) \n",
    "\n",
    "# perform Tukey's test\n",
    "tukey = pairwise_tukeyhsd(endog=df['score'],\n",
    "                          groups=df['group'],\n",
    "                          alpha=0.05)\n",
    "\n",
    "#display results\n",
    "print(tukey)"
   ]
  },
  {
   "cell_type": "code",
   "execution_count": 78,
   "id": "5c3b8fc4-c402-47a4-b9d3-d3c597be1ff8",
   "metadata": {},
   "outputs": [
    {
     "name": "stdout",
     "output_type": "stream",
     "text": [
      "F_onewayResult(statistic=2975.454761904569, pvalue=3.503828994456965e-22)\n",
      "[148, 144, 142, 140, 138, 15, 15, 12, 17, 12, 17, 22, 16, 22, 19, 8, 7, 7, 7, 9]\n",
      "['default' 'default' 'default' 'default' 'default' 'capacity' 'capacity'\n",
      " 'capacity' 'capacity' 'capacity' 'nos' 'nos' 'nos' 'nos' 'nos' 'yunikorn'\n",
      " 'yunikorn' 'yunikorn' 'yunikorn' 'yunikorn']\n",
      "    Multiple Comparison of Means - Tukey HSD, FWER=0.05     \n",
      "============================================================\n",
      " group1   group2  meandiff p-adj    lower     upper   reject\n",
      "------------------------------------------------------------\n",
      "capacity  default    128.2  0.001  123.4122  132.9878   True\n",
      "capacity      nos      5.0 0.0391    0.2122    9.7878   True\n",
      "capacity yunikorn     -6.6 0.0057  -11.3878   -1.8122   True\n",
      " default      nos   -123.2  0.001 -127.9878 -118.4122   True\n",
      " default yunikorn   -134.8  0.001 -139.5878 -130.0122   True\n",
      "     nos yunikorn    -11.6  0.001  -16.3878   -6.8122   True\n",
      "------------------------------------------------------------\n"
     ]
    }
   ],
   "source": [
    "t3_default_starttime = [148,144,142,140,138]\n",
    "t3_capacity_starttime = [15,15,12,17,12]\n",
    "t3_nos_starttime = [17,22,16,22,19]\n",
    "t3_yunikorn_starttime = [8,7,7,7,9]\n",
    "\n",
    "anova = f_oneway(t3_default_starttime, t3_capacity_starttime, t3_nos_starttime, t3_yunikorn_starttime)\n",
    "print(anova)\n",
    "\n",
    "all_starttimes = []\n",
    "\n",
    "for starttime in t3_default_starttime:\n",
    "    all_starttimes.append(starttime)\n",
    "    \n",
    "for starttime in t3_capacity_starttime:\n",
    "    all_starttimes.append(starttime)\n",
    "    \n",
    "for starttime in t3_nos_starttime:\n",
    "    all_starttimes.append(starttime)\n",
    "    \n",
    "for starttime in t3_yunikorn_starttime:\n",
    "    all_starttimes.append(starttime)\n",
    "\n",
    "print(all_starttimes)\n",
    "print(np.repeat(['default', 'capacity', 'nos', 'yunikorn'], repeats=5))\n",
    "#create DataFrame to hold data\n",
    "df = pd.DataFrame({'score': all_starttimes,\n",
    "                   'group': np.repeat(['default', 'capacity', 'nos', 'yunikorn'], repeats=5)}) \n",
    "\n",
    "# perform Tukey's test\n",
    "tukey = pairwise_tukeyhsd(endog=df['score'],\n",
    "                          groups=df['group'],\n",
    "                          alpha=0.05)\n",
    "\n",
    "#display results\n",
    "print(tukey)"
   ]
  },
  {
   "cell_type": "code",
   "execution_count": 80,
   "id": "1a58b7f8-6b1e-4821-bebe-093874905da9",
   "metadata": {},
   "outputs": [
    {
     "name": "stdout",
     "output_type": "stream",
     "text": [
      "F_onewayResult(statistic=17.78571428571428, pvalue=2.387268886509163e-05)\n",
      "[16, 14, 16, 16, 16, 17, 16, 16, 16, 15, 17, 16, 16, 16, 15, 20, 18, 18, 20, 19]\n",
      "['default' 'default' 'default' 'default' 'default' 'capacity' 'capacity'\n",
      " 'capacity' 'capacity' 'capacity' 'nos' 'nos' 'nos' 'nos' 'nos' 'yunikorn'\n",
      " 'yunikorn' 'yunikorn' 'yunikorn' 'yunikorn']\n",
      " Multiple Comparison of Means - Tukey HSD, FWER=0.05 \n",
      "=====================================================\n",
      " group1   group2  meandiff p-adj  lower  upper reject\n",
      "-----------------------------------------------------\n",
      "capacity  default     -0.4 0.8631 -1.914 1.114  False\n",
      "capacity      nos      0.0    0.9 -1.514 1.514  False\n",
      "capacity yunikorn      3.0  0.001  1.486 4.514   True\n",
      " default      nos      0.4 0.8631 -1.114 1.914  False\n",
      " default yunikorn      3.4  0.001  1.886 4.914   True\n",
      "     nos yunikorn      3.0  0.001  1.486 4.514   True\n",
      "-----------------------------------------------------\n"
     ]
    }
   ],
   "source": [
    "t1_default_ttq = [16,14,16,16,16]\n",
    "t1_capacity_ttq = [17,16,16,16,15]\n",
    "t1_nos_ttq = [17,16,16,16,15]\n",
    "t1_yunikorn_ttq = [20,18,18,20,19]\n",
    "\n",
    "anova = f_oneway(t1_default_ttq, t1_capacity_ttq, t1_nos_ttq, t1_yunikorn_ttq)\n",
    "print(anova)\n",
    "all_ttq = []\n",
    "\n",
    "for ttq in t1_default_ttq:\n",
    "    all_ttq.append(ttq)\n",
    "    \n",
    "for ttq in t1_capacity_ttq:\n",
    "    all_ttq.append(ttq)\n",
    "    \n",
    "for ttq in t1_nos_ttq:\n",
    "    all_ttq.append(ttq)\n",
    "    \n",
    "for ttq in t1_yunikorn_ttq:\n",
    "    all_ttq.append(ttq)\n",
    "\n",
    "print(all_ttq)\n",
    "print(np.repeat(['default', 'capacity', 'nos', 'yunikorn'], repeats=5))\n",
    "#create DataFrame to hold data\n",
    "df = pd.DataFrame({'score': all_ttq,\n",
    "                   'group': np.repeat(['default', 'capacity', 'nos', 'yunikorn'], repeats=5)}) \n",
    "\n",
    "# perform Tukey's test\n",
    "tukey = pairwise_tukeyhsd(endog=df['score'],\n",
    "                          groups=df['group'],\n",
    "                          alpha=0.05)\n",
    "\n",
    "#display results\n",
    "print(tukey)"
   ]
  },
  {
   "cell_type": "code",
   "execution_count": 81,
   "id": "71703a32-a296-4200-8354-7d7c90b2f728",
   "metadata": {},
   "outputs": [
    {
     "name": "stdout",
     "output_type": "stream",
     "text": [
      "F_onewayResult(statistic=6208.883950617284, pvalue=9.823814707851868e-25)\n",
      "[178, 172, 177, 172, 176, 50, 47, 48, 48, 45, 54, 56, 54, 54, 52, 38, 37, 37, 37, 37]\n",
      "['default' 'default' 'default' 'default' 'default' 'capacity' 'capacity'\n",
      " 'capacity' 'capacity' 'capacity' 'nos' 'nos' 'nos' 'nos' 'nos' 'yunikorn'\n",
      " 'yunikorn' 'yunikorn' 'yunikorn' 'yunikorn']\n",
      "    Multiple Comparison of Means - Tukey HSD, FWER=0.05    \n",
      "===========================================================\n",
      " group1   group2  meandiff p-adj   lower     upper   reject\n",
      "-----------------------------------------------------------\n",
      "capacity  default    127.4 0.001  124.0755  130.7245   True\n",
      "capacity      nos      6.4 0.001    3.0755    9.7245   True\n",
      "capacity yunikorn    -10.4 0.001  -13.7245   -7.0755   True\n",
      " default      nos   -121.0 0.001 -124.3245 -117.6755   True\n",
      " default yunikorn   -137.8 0.001 -141.1245 -134.4755   True\n",
      "     nos yunikorn    -16.8 0.001  -20.1245  -13.4755   True\n",
      "-----------------------------------------------------------\n"
     ]
    }
   ],
   "source": [
    "t2_default_ttq = [178,172,177,172,176]\n",
    "t2_capacity_ttq = [50,47,48,48,45]\n",
    "t2_nos_ttq = [54,56,54,54,52]\n",
    "t2_yunikorn_ttq = [38,37,37,37,37]\n",
    "\n",
    "anova = f_oneway(t2_default_ttq, t2_capacity_ttq, t2_nos_ttq, t2_yunikorn_ttq)\n",
    "print(anova)\n",
    "all_ttq = []\n",
    "\n",
    "for ttq in t2_default_ttq:\n",
    "    all_ttq.append(ttq)\n",
    "    \n",
    "for ttq in t2_capacity_ttq:\n",
    "    all_ttq.append(ttq)\n",
    "    \n",
    "for ttq in t2_nos_ttq:\n",
    "    all_ttq.append(ttq)\n",
    "    \n",
    "for ttq in t2_yunikorn_ttq:\n",
    "    all_ttq.append(ttq)\n",
    "\n",
    "print(all_ttq)\n",
    "print(np.repeat(['default', 'capacity', 'nos', 'yunikorn'], repeats=5))\n",
    "#create DataFrame to hold data\n",
    "df = pd.DataFrame({'score': all_ttq,\n",
    "                   'group': np.repeat(['default', 'capacity', 'nos', 'yunikorn'], repeats=5)}) \n",
    "\n",
    "# perform Tukey's test\n",
    "tukey = pairwise_tukeyhsd(endog=df['score'],\n",
    "                          groups=df['group'],\n",
    "                          alpha=0.05)\n",
    "\n",
    "#display results\n",
    "print(tukey)"
   ]
  },
  {
   "cell_type": "code",
   "execution_count": 82,
   "id": "c67bbb1a-e82e-491c-a6d3-2d7eefcd1fde",
   "metadata": {},
   "outputs": [
    {
     "name": "stdout",
     "output_type": "stream",
     "text": [
      "F_onewayResult(statistic=1733.4444444444614, pvalue=2.6121123425280518e-20)\n",
      "[350, 349, 353, 350, 354, 123, 143, 146, 132, 131, 134, 143, 140, 127, 145, 101, 102, 105, 100, 103]\n",
      "['default' 'default' 'default' 'default' 'default' 'capacity' 'capacity'\n",
      " 'capacity' 'capacity' 'capacity' 'nos' 'nos' 'nos' 'nos' 'nos' 'yunikorn'\n",
      " 'yunikorn' 'yunikorn' 'yunikorn' 'yunikorn']\n",
      "    Multiple Comparison of Means - Tukey HSD, FWER=0.05     \n",
      "============================================================\n",
      " group1   group2  meandiff p-adj    lower     upper   reject\n",
      "------------------------------------------------------------\n",
      "capacity  default    216.2  0.001  205.0963  227.3037   True\n",
      "capacity      nos      2.8 0.8817   -8.3037   13.9037  False\n",
      "capacity yunikorn    -32.8  0.001  -43.9037  -21.6963   True\n",
      " default      nos   -213.4  0.001 -224.5037 -202.2963   True\n",
      " default yunikorn   -249.0  0.001 -260.1037 -237.8963   True\n",
      "     nos yunikorn    -35.6  0.001  -46.7037  -24.4963   True\n",
      "------------------------------------------------------------\n"
     ]
    }
   ],
   "source": [
    "t3_default_ttq = [350,349,353,350,354]\n",
    "t3_capacity_ttq = [123,143,146,132,131]\n",
    "t3_nos_ttq = [134,143,140,127,145]\n",
    "t3_yunikorn_ttq = [101,102,105,100,103]\n",
    "\n",
    "anova = f_oneway(t3_default_ttq, t3_capacity_ttq, t3_nos_ttq, t3_yunikorn_ttq)\n",
    "print(anova)\n",
    "all_ttq = []\n",
    "\n",
    "for ttq in t3_default_ttq:\n",
    "    all_ttq.append(ttq)\n",
    "    \n",
    "for ttq in t3_capacity_ttq:\n",
    "    all_ttq.append(ttq)\n",
    "    \n",
    "for ttq in t3_nos_ttq:\n",
    "    all_ttq.append(ttq)\n",
    "    \n",
    "for ttq in t3_yunikorn_ttq:\n",
    "    all_ttq.append(ttq)\n",
    "\n",
    "print(all_ttq)\n",
    "print(np.repeat(['default', 'capacity', 'nos', 'yunikorn'], repeats=5))\n",
    "#create DataFrame to hold data\n",
    "df = pd.DataFrame({'score': all_ttq,\n",
    "                   'group': np.repeat(['default', 'capacity', 'nos', 'yunikorn'], repeats=5)}) \n",
    "\n",
    "# perform Tukey's test\n",
    "tukey = pairwise_tukeyhsd(endog=df['score'],\n",
    "                          groups=df['group'],\n",
    "                          alpha=0.05)\n",
    "\n",
    "#display results\n",
    "print(tukey)"
   ]
  },
  {
   "cell_type": "code",
   "execution_count": null,
   "id": "f67fed55-6e86-4db3-a91c-c035120854d8",
   "metadata": {},
   "outputs": [],
   "source": []
  }
 ],
 "metadata": {
  "kernelspec": {
   "display_name": "Python 3",
   "language": "python",
   "name": "python3"
  },
  "language_info": {
   "codemirror_mode": {
    "name": "ipython",
    "version": 3
   },
   "file_extension": ".py",
   "mimetype": "text/x-python",
   "name": "python",
   "nbconvert_exporter": "python",
   "pygments_lexer": "ipython3",
   "version": "3.8.8"
  }
 },
 "nbformat": 4,
 "nbformat_minor": 5
}
